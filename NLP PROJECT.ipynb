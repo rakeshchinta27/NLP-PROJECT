{
 "cells": [
  {
   "cell_type": "code",
   "execution_count": 1,
   "id": "1935b05f",
   "metadata": {
    "_cell_guid": "b1076dfc-b9ad-4769-8c92-a6c4dae69d19",
    "_uuid": "8f2839f25d086af736a60e9eeb907d3b93b6e0e5",
    "execution": {
     "iopub.execute_input": "2024-06-01T15:43:30.079970Z",
     "iopub.status.busy": "2024-06-01T15:43:30.079708Z",
     "iopub.status.idle": "2024-06-01T15:43:43.056070Z",
     "shell.execute_reply": "2024-06-01T15:43:43.055095Z"
    },
    "papermill": {
     "duration": 12.990304,
     "end_time": "2024-06-01T15:43:43.058280",
     "exception": false,
     "start_time": "2024-06-01T15:43:30.067976",
     "status": "completed"
    },
    "tags": []
   },
   "outputs": [
    {
     "name": "stderr",
     "output_type": "stream",
     "text": [
      "2024-06-01 15:43:31.643444: E external/local_xla/xla/stream_executor/cuda/cuda_dnn.cc:9261] Unable to register cuDNN factory: Attempting to register factory for plugin cuDNN when one has already been registered\n",
      "2024-06-01 15:43:31.643554: E external/local_xla/xla/stream_executor/cuda/cuda_fft.cc:607] Unable to register cuFFT factory: Attempting to register factory for plugin cuFFT when one has already been registered\n",
      "2024-06-01 15:43:31.751785: E external/local_xla/xla/stream_executor/cuda/cuda_blas.cc:1515] Unable to register cuBLAS factory: Attempting to register factory for plugin cuBLAS when one has already been registered\n"
     ]
    },
    {
     "name": "stdout",
     "output_type": "stream",
     "text": [
      "[nltk_data] Downloading package stopwords to /usr/share/nltk_data...\n",
      "[nltk_data]   Package stopwords is already up-to-date!\n",
      "Tensorflow Version 2.15.0\n"
     ]
    }
   ],
   "source": [
    "import tensorflow as tf\n",
    "import matplotlib.pyplot as plt\n",
    "import pandas as pd\n",
    "import numpy as np\n",
    "\n",
    "\n",
    "import nltk \n",
    "nltk.download('stopwords')\n",
    "from nltk.corpus import stopwords\n",
    "from nltk.stem import SnowballStemmer\n",
    "\n",
    "\n",
    "\n",
    "from sklearn.model_selection import train_test_split\n",
    "from sklearn.preprocessing import LabelEncoder\n",
    "\n",
    "\n",
    "import re\n",
    "\n",
    "print(\"Tensorflow Version\",tf.__version__)"
   ]
  },
  {
   "cell_type": "code",
   "execution_count": 2,
   "id": "7f513e12",
   "metadata": {
    "execution": {
     "iopub.execute_input": "2024-06-01T15:43:43.081131Z",
     "iopub.status.busy": "2024-06-01T15:43:43.080589Z",
     "iopub.status.idle": "2024-06-01T15:43:48.622968Z",
     "shell.execute_reply": "2024-06-01T15:43:48.622104Z"
    },
    "papermill": {
     "duration": 5.556181,
     "end_time": "2024-06-01T15:43:48.625134",
     "exception": false,
     "start_time": "2024-06-01T15:43:43.068953",
     "status": "completed"
    },
    "tags": []
   },
   "outputs": [
    {
     "data": {
      "text/html": [
       "<div>\n",
       "<style scoped>\n",
       "    .dataframe tbody tr th:only-of-type {\n",
       "        vertical-align: middle;\n",
       "    }\n",
       "\n",
       "    .dataframe tbody tr th {\n",
       "        vertical-align: top;\n",
       "    }\n",
       "\n",
       "    .dataframe thead th {\n",
       "        text-align: right;\n",
       "    }\n",
       "</style>\n",
       "<table border=\"1\" class=\"dataframe\">\n",
       "  <thead>\n",
       "    <tr style=\"text-align: right;\">\n",
       "      <th></th>\n",
       "      <th>0</th>\n",
       "      <th>1</th>\n",
       "      <th>2</th>\n",
       "      <th>3</th>\n",
       "      <th>4</th>\n",
       "      <th>5</th>\n",
       "    </tr>\n",
       "  </thead>\n",
       "  <tbody>\n",
       "    <tr>\n",
       "      <th>0</th>\n",
       "      <td>0</td>\n",
       "      <td>1467810369</td>\n",
       "      <td>Mon Apr 06 22:19:45 PDT 2009</td>\n",
       "      <td>NO_QUERY</td>\n",
       "      <td>_TheSpecialOne_</td>\n",
       "      <td>@switchfoot http://twitpic.com/2y1zl - Awww, t...</td>\n",
       "    </tr>\n",
       "    <tr>\n",
       "      <th>1</th>\n",
       "      <td>0</td>\n",
       "      <td>1467810672</td>\n",
       "      <td>Mon Apr 06 22:19:49 PDT 2009</td>\n",
       "      <td>NO_QUERY</td>\n",
       "      <td>scotthamilton</td>\n",
       "      <td>is upset that he can't update his Facebook by ...</td>\n",
       "    </tr>\n",
       "    <tr>\n",
       "      <th>2</th>\n",
       "      <td>0</td>\n",
       "      <td>1467810917</td>\n",
       "      <td>Mon Apr 06 22:19:53 PDT 2009</td>\n",
       "      <td>NO_QUERY</td>\n",
       "      <td>mattycus</td>\n",
       "      <td>@Kenichan I dived many times for the ball. Man...</td>\n",
       "    </tr>\n",
       "    <tr>\n",
       "      <th>3</th>\n",
       "      <td>0</td>\n",
       "      <td>1467811184</td>\n",
       "      <td>Mon Apr 06 22:19:57 PDT 2009</td>\n",
       "      <td>NO_QUERY</td>\n",
       "      <td>ElleCTF</td>\n",
       "      <td>my whole body feels itchy and like its on fire</td>\n",
       "    </tr>\n",
       "    <tr>\n",
       "      <th>4</th>\n",
       "      <td>0</td>\n",
       "      <td>1467811193</td>\n",
       "      <td>Mon Apr 06 22:19:57 PDT 2009</td>\n",
       "      <td>NO_QUERY</td>\n",
       "      <td>Karoli</td>\n",
       "      <td>@nationwideclass no, it's not behaving at all....</td>\n",
       "    </tr>\n",
       "  </tbody>\n",
       "</table>\n",
       "</div>"
      ],
      "text/plain": [
       "   0           1                             2         3                4  \\\n",
       "0  0  1467810369  Mon Apr 06 22:19:45 PDT 2009  NO_QUERY  _TheSpecialOne_   \n",
       "1  0  1467810672  Mon Apr 06 22:19:49 PDT 2009  NO_QUERY    scotthamilton   \n",
       "2  0  1467810917  Mon Apr 06 22:19:53 PDT 2009  NO_QUERY         mattycus   \n",
       "3  0  1467811184  Mon Apr 06 22:19:57 PDT 2009  NO_QUERY          ElleCTF   \n",
       "4  0  1467811193  Mon Apr 06 22:19:57 PDT 2009  NO_QUERY           Karoli   \n",
       "\n",
       "                                                   5  \n",
       "0  @switchfoot http://twitpic.com/2y1zl - Awww, t...  \n",
       "1  is upset that he can't update his Facebook by ...  \n",
       "2  @Kenichan I dived many times for the ball. Man...  \n",
       "3    my whole body feels itchy and like its on fire   \n",
       "4  @nationwideclass no, it's not behaving at all....  "
      ]
     },
     "execution_count": 2,
     "metadata": {},
     "output_type": "execute_result"
    }
   ],
   "source": [
    "df = pd.read_csv('training.1600000.processed.noemoticon.csv',\n",
    "                 encoding = 'latin',header=None)\n",
    "df.head()"
   ]
  },
  {
   "cell_type": "code",
   "execution_count": 3,
   "id": "e8ab5620",
   "metadata": {
    "execution": {
     "iopub.execute_input": "2024-06-01T15:43:48.648496Z",
     "iopub.status.busy": "2024-06-01T15:43:48.648207Z",
     "iopub.status.idle": "2024-06-01T15:43:48.659160Z",
     "shell.execute_reply": "2024-06-01T15:43:48.658329Z"
    },
    "papermill": {
     "duration": 0.024721,
     "end_time": "2024-06-01T15:43:48.660994",
     "exception": false,
     "start_time": "2024-06-01T15:43:48.636273",
     "status": "completed"
    },
    "tags": []
   },
   "outputs": [
    {
     "data": {
      "text/html": [
       "<div>\n",
       "<style scoped>\n",
       "    .dataframe tbody tr th:only-of-type {\n",
       "        vertical-align: middle;\n",
       "    }\n",
       "\n",
       "    .dataframe tbody tr th {\n",
       "        vertical-align: top;\n",
       "    }\n",
       "\n",
       "    .dataframe thead th {\n",
       "        text-align: right;\n",
       "    }\n",
       "</style>\n",
       "<table border=\"1\" class=\"dataframe\">\n",
       "  <thead>\n",
       "    <tr style=\"text-align: right;\">\n",
       "      <th></th>\n",
       "      <th>sentiment</th>\n",
       "      <th>id</th>\n",
       "      <th>date</th>\n",
       "      <th>query</th>\n",
       "      <th>user_id</th>\n",
       "      <th>text</th>\n",
       "    </tr>\n",
       "  </thead>\n",
       "  <tbody>\n",
       "    <tr>\n",
       "      <th>0</th>\n",
       "      <td>0</td>\n",
       "      <td>1467810369</td>\n",
       "      <td>Mon Apr 06 22:19:45 PDT 2009</td>\n",
       "      <td>NO_QUERY</td>\n",
       "      <td>_TheSpecialOne_</td>\n",
       "      <td>@switchfoot http://twitpic.com/2y1zl - Awww, t...</td>\n",
       "    </tr>\n",
       "    <tr>\n",
       "      <th>1</th>\n",
       "      <td>0</td>\n",
       "      <td>1467810672</td>\n",
       "      <td>Mon Apr 06 22:19:49 PDT 2009</td>\n",
       "      <td>NO_QUERY</td>\n",
       "      <td>scotthamilton</td>\n",
       "      <td>is upset that he can't update his Facebook by ...</td>\n",
       "    </tr>\n",
       "    <tr>\n",
       "      <th>2</th>\n",
       "      <td>0</td>\n",
       "      <td>1467810917</td>\n",
       "      <td>Mon Apr 06 22:19:53 PDT 2009</td>\n",
       "      <td>NO_QUERY</td>\n",
       "      <td>mattycus</td>\n",
       "      <td>@Kenichan I dived many times for the ball. Man...</td>\n",
       "    </tr>\n",
       "    <tr>\n",
       "      <th>3</th>\n",
       "      <td>0</td>\n",
       "      <td>1467811184</td>\n",
       "      <td>Mon Apr 06 22:19:57 PDT 2009</td>\n",
       "      <td>NO_QUERY</td>\n",
       "      <td>ElleCTF</td>\n",
       "      <td>my whole body feels itchy and like its on fire</td>\n",
       "    </tr>\n",
       "    <tr>\n",
       "      <th>4</th>\n",
       "      <td>0</td>\n",
       "      <td>1467811193</td>\n",
       "      <td>Mon Apr 06 22:19:57 PDT 2009</td>\n",
       "      <td>NO_QUERY</td>\n",
       "      <td>Karoli</td>\n",
       "      <td>@nationwideclass no, it's not behaving at all....</td>\n",
       "    </tr>\n",
       "  </tbody>\n",
       "</table>\n",
       "</div>"
      ],
      "text/plain": [
       "   sentiment          id                          date     query  \\\n",
       "0          0  1467810369  Mon Apr 06 22:19:45 PDT 2009  NO_QUERY   \n",
       "1          0  1467810672  Mon Apr 06 22:19:49 PDT 2009  NO_QUERY   \n",
       "2          0  1467810917  Mon Apr 06 22:19:53 PDT 2009  NO_QUERY   \n",
       "3          0  1467811184  Mon Apr 06 22:19:57 PDT 2009  NO_QUERY   \n",
       "4          0  1467811193  Mon Apr 06 22:19:57 PDT 2009  NO_QUERY   \n",
       "\n",
       "           user_id                                               text  \n",
       "0  _TheSpecialOne_  @switchfoot http://twitpic.com/2y1zl - Awww, t...  \n",
       "1    scotthamilton  is upset that he can't update his Facebook by ...  \n",
       "2         mattycus  @Kenichan I dived many times for the ball. Man...  \n",
       "3          ElleCTF    my whole body feels itchy and like its on fire   \n",
       "4           Karoli  @nationwideclass no, it's not behaving at all....  "
      ]
     },
     "execution_count": 3,
     "metadata": {},
     "output_type": "execute_result"
    }
   ],
   "source": [
    "df.columns = ['sentiment', 'id', 'date', 'query', 'user_id', 'text']\n",
    "df.head()"
   ]
  },
  {
   "cell_type": "code",
   "execution_count": 4,
   "id": "cd8a87b6",
   "metadata": {
    "execution": {
     "iopub.execute_input": "2024-06-01T15:43:48.684765Z",
     "iopub.status.busy": "2024-06-01T15:43:48.684301Z",
     "iopub.status.idle": "2024-06-01T15:43:48.721579Z",
     "shell.execute_reply": "2024-06-01T15:43:48.720903Z"
    },
    "papermill": {
     "duration": 0.051615,
     "end_time": "2024-06-01T15:43:48.723476",
     "exception": false,
     "start_time": "2024-06-01T15:43:48.671861",
     "status": "completed"
    },
    "tags": []
   },
   "outputs": [],
   "source": [
    "df = df.drop(columns=['id', 'date', 'query', 'user_id'])"
   ]
  },
  {
   "cell_type": "code",
   "execution_count": 5,
   "id": "b3fbdba7",
   "metadata": {
    "execution": {
     "iopub.execute_input": "2024-06-01T15:43:48.746000Z",
     "iopub.status.busy": "2024-06-01T15:43:48.745759Z",
     "iopub.status.idle": "2024-06-01T15:43:48.753607Z",
     "shell.execute_reply": "2024-06-01T15:43:48.752672Z"
    },
    "papermill": {
     "duration": 0.021211,
     "end_time": "2024-06-01T15:43:48.755568",
     "exception": false,
     "start_time": "2024-06-01T15:43:48.734357",
     "status": "completed"
    },
    "tags": []
   },
   "outputs": [
    {
     "data": {
      "text/html": [
       "<div>\n",
       "<style scoped>\n",
       "    .dataframe tbody tr th:only-of-type {\n",
       "        vertical-align: middle;\n",
       "    }\n",
       "\n",
       "    .dataframe tbody tr th {\n",
       "        vertical-align: top;\n",
       "    }\n",
       "\n",
       "    .dataframe thead th {\n",
       "        text-align: right;\n",
       "    }\n",
       "</style>\n",
       "<table border=\"1\" class=\"dataframe\">\n",
       "  <thead>\n",
       "    <tr style=\"text-align: right;\">\n",
       "      <th></th>\n",
       "      <th>sentiment</th>\n",
       "      <th>text</th>\n",
       "    </tr>\n",
       "  </thead>\n",
       "  <tbody>\n",
       "    <tr>\n",
       "      <th>0</th>\n",
       "      <td>0</td>\n",
       "      <td>@switchfoot http://twitpic.com/2y1zl - Awww, t...</td>\n",
       "    </tr>\n",
       "    <tr>\n",
       "      <th>1</th>\n",
       "      <td>0</td>\n",
       "      <td>is upset that he can't update his Facebook by ...</td>\n",
       "    </tr>\n",
       "    <tr>\n",
       "      <th>2</th>\n",
       "      <td>0</td>\n",
       "      <td>@Kenichan I dived many times for the ball. Man...</td>\n",
       "    </tr>\n",
       "    <tr>\n",
       "      <th>3</th>\n",
       "      <td>0</td>\n",
       "      <td>my whole body feels itchy and like its on fire</td>\n",
       "    </tr>\n",
       "    <tr>\n",
       "      <th>4</th>\n",
       "      <td>0</td>\n",
       "      <td>@nationwideclass no, it's not behaving at all....</td>\n",
       "    </tr>\n",
       "  </tbody>\n",
       "</table>\n",
       "</div>"
      ],
      "text/plain": [
       "   sentiment                                               text\n",
       "0          0  @switchfoot http://twitpic.com/2y1zl - Awww, t...\n",
       "1          0  is upset that he can't update his Facebook by ...\n",
       "2          0  @Kenichan I dived many times for the ball. Man...\n",
       "3          0    my whole body feels itchy and like its on fire \n",
       "4          0  @nationwideclass no, it's not behaving at all...."
      ]
     },
     "execution_count": 5,
     "metadata": {},
     "output_type": "execute_result"
    }
   ],
   "source": [
    "df.head()"
   ]
  },
  {
   "cell_type": "code",
   "execution_count": 6,
   "id": "88678432",
   "metadata": {
    "execution": {
     "iopub.execute_input": "2024-06-01T15:43:48.778717Z",
     "iopub.status.busy": "2024-06-01T15:43:48.778478Z",
     "iopub.status.idle": "2024-06-01T15:43:48.802454Z",
     "shell.execute_reply": "2024-06-01T15:43:48.801577Z"
    },
    "papermill": {
     "duration": 0.037647,
     "end_time": "2024-06-01T15:43:48.804528",
     "exception": false,
     "start_time": "2024-06-01T15:43:48.766881",
     "status": "completed"
    },
    "tags": []
   },
   "outputs": [
    {
     "data": {
      "text/plain": [
       "sentiment\n",
       "0    800000\n",
       "4    800000\n",
       "Name: count, dtype: int64"
      ]
     },
     "execution_count": 6,
     "metadata": {},
     "output_type": "execute_result"
    }
   ],
   "source": [
    "df['sentiment'].value_counts()"
   ]
  },
  {
   "cell_type": "code",
   "execution_count": 7,
   "id": "0aa610c7",
   "metadata": {
    "execution": {
     "iopub.execute_input": "2024-06-01T15:43:48.827904Z",
     "iopub.status.busy": "2024-06-01T15:43:48.827672Z",
     "iopub.status.idle": "2024-06-01T15:43:48.938823Z",
     "shell.execute_reply": "2024-06-01T15:43:48.938016Z"
    },
    "papermill": {
     "duration": 0.125108,
     "end_time": "2024-06-01T15:43:48.941104",
     "exception": false,
     "start_time": "2024-06-01T15:43:48.815996",
     "status": "completed"
    },
    "tags": []
   },
   "outputs": [],
   "source": [
    "df['sentiment'] = df['sentiment'].replace({0: 'Negative', 4: 'Positive'})"
   ]
  },
  {
   "cell_type": "code",
   "execution_count": 8,
   "id": "fb5731ba",
   "metadata": {
    "execution": {
     "iopub.execute_input": "2024-06-01T15:43:48.965185Z",
     "iopub.status.busy": "2024-06-01T15:43:48.964880Z",
     "iopub.status.idle": "2024-06-01T15:43:49.155264Z",
     "shell.execute_reply": "2024-06-01T15:43:49.154198Z"
    },
    "papermill": {
     "duration": 0.204489,
     "end_time": "2024-06-01T15:43:49.157180",
     "exception": false,
     "start_time": "2024-06-01T15:43:48.952691",
     "status": "completed"
    },
    "tags": []
   },
   "outputs": [
    {
     "data": {
      "text/plain": [
       "sentiment\n",
       "Negative    800000\n",
       "Positive    800000\n",
       "Name: count, dtype: int64"
      ]
     },
     "execution_count": 8,
     "metadata": {},
     "output_type": "execute_result"
    }
   ],
   "source": [
    "df['sentiment'].value_counts()"
   ]
  },
  {
   "cell_type": "code",
   "execution_count": 9,
   "id": "08dbfef7",
   "metadata": {
    "execution": {
     "iopub.execute_input": "2024-06-01T15:43:49.180912Z",
     "iopub.status.busy": "2024-06-01T15:43:49.180652Z",
     "iopub.status.idle": "2024-06-01T15:43:49.583876Z",
     "shell.execute_reply": "2024-06-01T15:43:49.583012Z"
    },
    "papermill": {
     "duration": 0.417315,
     "end_time": "2024-06-01T15:43:49.585801",
     "exception": false,
     "start_time": "2024-06-01T15:43:49.168486",
     "status": "completed"
    },
    "tags": []
   },
   "outputs": [
    {
     "data": {
      "text/plain": [
       "Text(0.5, 1.0, 'Sentiment Data Distribution')"
      ]
     },
     "execution_count": 9,
     "metadata": {},
     "output_type": "execute_result"
    },
    {
     "data": {
      "image/png": "[encoded data removed]",
      "text/plain": [
       "<Figure size 800x400 with 1 Axes>"
      ]
     },
     "metadata": {},
     "output_type": "display_data"
    }
   ],
   "source": [
    "# plotting the distribuition of sentiments\n",
    "val_count = df['sentiment'].value_counts()\n",
    "\n",
    "plt.figure(figsize=(8,4))\n",
    "plt.bar(val_count.index, val_count.values)\n",
    "plt.title(\"Sentiment Data Distribution\")"
   ]
  },
  {
   "cell_type": "markdown",
   "id": "cec83fd8",
   "metadata": {
    "papermill": {
     "duration": 0.011557,
     "end_time": "2024-06-01T15:43:49.609300",
     "exception": false,
     "start_time": "2024-06-01T15:43:49.597743",
     "status": "completed"
    },
    "tags": []
   },
   "source": [
    "## Preprocessing(Stemming, stopwords, cleaning)"
   ]
  },
  {
   "cell_type": "code",
   "execution_count": 10,
   "id": "72972dec",
   "metadata": {
    "execution": {
     "iopub.execute_input": "2024-06-01T15:43:49.633708Z",
     "iopub.status.busy": "2024-06-01T15:43:49.633440Z",
     "iopub.status.idle": "2024-06-01T15:43:49.645132Z",
     "shell.execute_reply": "2024-06-01T15:43:49.644310Z"
    },
    "papermill": {
     "duration": 0.026154,
     "end_time": "2024-06-01T15:43:49.647130",
     "exception": false,
     "start_time": "2024-06-01T15:43:49.620976",
     "status": "completed"
    },
    "tags": []
   },
   "outputs": [
    {
     "data": {
      "text/html": [
       "<div>\n",
       "<style scoped>\n",
       "    .dataframe tbody tr th:only-of-type {\n",
       "        vertical-align: middle;\n",
       "    }\n",
       "\n",
       "    .dataframe tbody tr th {\n",
       "        vertical-align: top;\n",
       "    }\n",
       "\n",
       "    .dataframe thead th {\n",
       "        text-align: right;\n",
       "    }\n",
       "</style>\n",
       "<table border=\"1\" class=\"dataframe\">\n",
       "  <thead>\n",
       "    <tr style=\"text-align: right;\">\n",
       "      <th></th>\n",
       "      <th>sentiment</th>\n",
       "      <th>text</th>\n",
       "    </tr>\n",
       "  </thead>\n",
       "  <tbody>\n",
       "    <tr>\n",
       "      <th>1536529</th>\n",
       "      <td>Positive</td>\n",
       "      <td>Pepper Ann!! OMG, memories  @NemoIsBack</td>\n",
       "    </tr>\n",
       "    <tr>\n",
       "      <th>1485500</th>\n",
       "      <td>Positive</td>\n",
       "      <td>sittin here.. texting!!</td>\n",
       "    </tr>\n",
       "    <tr>\n",
       "      <th>819402</th>\n",
       "      <td>Positive</td>\n",
       "      <td>lotta rain down here...just saw animals marchi...</td>\n",
       "    </tr>\n",
       "    <tr>\n",
       "      <th>1551964</th>\n",
       "      <td>Positive</td>\n",
       "      <td>@laurin09 Put your hands in the air like you j...</td>\n",
       "    </tr>\n",
       "    <tr>\n",
       "      <th>803446</th>\n",
       "      <td>Positive</td>\n",
       "      <td>@samscotti sounds interesting already</td>\n",
       "    </tr>\n",
       "    <tr>\n",
       "      <th>179125</th>\n",
       "      <td>Negative</td>\n",
       "      <td>@RezaEvol awe  wit the snap of my fingers n a ...</td>\n",
       "    </tr>\n",
       "    <tr>\n",
       "      <th>1046331</th>\n",
       "      <td>Positive</td>\n",
       "      <td>@sparkleshelf Heh  Alas I am in the UK so can'...</td>\n",
       "    </tr>\n",
       "    <tr>\n",
       "      <th>702232</th>\n",
       "      <td>Negative</td>\n",
       "      <td>Can't afford to go out these days. So spending...</td>\n",
       "    </tr>\n",
       "    <tr>\n",
       "      <th>368095</th>\n",
       "      <td>Negative</td>\n",
       "      <td>Havent been here 3 weekends in a row, kinda ou...</td>\n",
       "    </tr>\n",
       "    <tr>\n",
       "      <th>1259836</th>\n",
       "      <td>Positive</td>\n",
       "      <td>wrote and recorded a new song today. dm me for...</td>\n",
       "    </tr>\n",
       "  </tbody>\n",
       "</table>\n",
       "</div>"
      ],
      "text/plain": [
       "        sentiment                                               text\n",
       "1536529  Positive            Pepper Ann!! OMG, memories  @NemoIsBack\n",
       "1485500  Positive                           sittin here.. texting!! \n",
       "819402   Positive  lotta rain down here...just saw animals marchi...\n",
       "1551964  Positive  @laurin09 Put your hands in the air like you j...\n",
       "803446   Positive             @samscotti sounds interesting already \n",
       "179125   Negative  @RezaEvol awe  wit the snap of my fingers n a ...\n",
       "1046331  Positive  @sparkleshelf Heh  Alas I am in the UK so can'...\n",
       "702232   Negative  Can't afford to go out these days. So spending...\n",
       "368095   Negative  Havent been here 3 weekends in a row, kinda ou...\n",
       "1259836  Positive  wrote and recorded a new song today. dm me for..."
      ]
     },
     "execution_count": 10,
     "metadata": {},
     "output_type": "execute_result"
    }
   ],
   "source": [
    "import random\n",
    "random_idx_list = [random.randint(1,len(df.text)) for i in range(10)] # creates random indexes to choose from dataframe\n",
    "df.loc[random_idx_list,:].head(10) # Returns the rows with the index and display it"
   ]
  },
  {
   "cell_type": "code",
   "execution_count": 11,
   "id": "e3e132d8",
   "metadata": {
    "execution": {
     "iopub.execute_input": "2024-06-01T15:43:49.672262Z",
     "iopub.status.busy": "2024-06-01T15:43:49.671800Z",
     "iopub.status.idle": "2024-06-01T15:43:49.677866Z",
     "shell.execute_reply": "2024-06-01T15:43:49.677199Z"
    },
    "papermill": {
     "duration": 0.020579,
     "end_time": "2024-06-01T15:43:49.679722",
     "exception": false,
     "start_time": "2024-06-01T15:43:49.659143",
     "status": "completed"
    },
    "tags": []
   },
   "outputs": [],
   "source": [
    "stop_words = stopwords.words('english')\n",
    "stemmer = SnowballStemmer('english')\n",
    "\n",
    "text_cleaning_re = \"@\\S+|https?:\\S+|http?:\\S|[^A-Za-z0-9]+\""
   ]
  },
  {
   "cell_type": "code",
   "execution_count": 12,
   "id": "0788d38d",
   "metadata": {
    "execution": {
     "iopub.execute_input": "2024-06-01T15:43:49.704678Z",
     "iopub.status.busy": "2024-06-01T15:43:49.704417Z",
     "iopub.status.idle": "2024-06-01T15:43:49.710071Z",
     "shell.execute_reply": "2024-06-01T15:43:49.709259Z"
    },
    "papermill": {
     "duration": 0.020096,
     "end_time": "2024-06-01T15:43:49.711882",
     "exception": false,
     "start_time": "2024-06-01T15:43:49.691786",
     "status": "completed"
    },
    "tags": []
   },
   "outputs": [],
   "source": [
    "def preprocess(text, stem=False):\n",
    "    '''\n",
    "    This function stems all the words in the text, removes stop words and remove unnecessary characters from text\n",
    "    '''\n",
    "    text = re.sub(text_cleaning_re,  ' ', str(text).lower()).strip()\n",
    "    tokens = []\n",
    "    for token in text.split():\n",
    "        if token not in stop_words:\n",
    "            if stem:\n",
    "                tokens.append(stemmer.stem(token))\n",
    "            else:\n",
    "                tokens.append(token)\n",
    "    return \" \".join(tokens)"
   ]
  },
  {
   "cell_type": "code",
   "execution_count": 13,
   "id": "35761c8d",
   "metadata": {
    "execution": {
     "iopub.execute_input": "2024-06-01T15:43:49.736906Z",
     "iopub.status.busy": "2024-06-01T15:43:49.736387Z",
     "iopub.status.idle": "2024-06-01T15:44:48.172134Z",
     "shell.execute_reply": "2024-06-01T15:44:48.171230Z"
    },
    "papermill": {
     "duration": 58.451198,
     "end_time": "2024-06-01T15:44:48.174938",
     "exception": false,
     "start_time": "2024-06-01T15:43:49.723740",
     "status": "completed"
    },
    "tags": []
   },
   "outputs": [],
   "source": [
    "df['text'] = df['text'].apply(lambda x: preprocess(x))"
   ]
  },
  {
   "cell_type": "code",
   "execution_count": 14,
   "id": "8db7cb96",
   "metadata": {
    "execution": {
     "iopub.execute_input": "2024-06-01T15:44:48.205027Z",
     "iopub.status.busy": "2024-06-01T15:44:48.204693Z",
     "iopub.status.idle": "2024-06-01T15:44:48.209268Z",
     "shell.execute_reply": "2024-06-01T15:44:48.208257Z"
    },
    "papermill": {
     "duration": 0.021882,
     "end_time": "2024-06-01T15:44:48.211476",
     "exception": false,
     "start_time": "2024-06-01T15:44:48.189594",
     "status": "completed"
    },
    "tags": []
   },
   "outputs": [],
   "source": [
    "from wordcloud import WordCloud\n",
    "\n",
    "plt.figure(figsize = (20,20)) \n",
    "wc = WordCloud(max_words = 2000 , width = 1600 , height = 800).generate(\" \".join(df[df['sentiment'] == 'Positive'].text))\n",
    "plt.imshow(wc , interpolation = 'bilinear')"
   ]
  },
  {
   "cell_type": "code",
   "execution_count": 15,
   "id": "95da2b6b",
   "metadata": {
    "execution": {
     "iopub.execute_input": "2024-06-01T15:44:48.240922Z",
     "iopub.status.busy": "2024-06-01T15:44:48.240368Z",
     "iopub.status.idle": "2024-06-01T15:44:48.244386Z",
     "shell.execute_reply": "2024-06-01T15:44:48.243533Z"
    },
    "papermill": {
     "duration": 0.019191,
     "end_time": "2024-06-01T15:44:48.246406",
     "exception": false,
     "start_time": "2024-06-01T15:44:48.227215",
     "status": "completed"
    },
    "tags": []
   },
   "outputs": [],
   "source": [
    "plt.figure(figsize = (20,20)) \n",
    "wc = WordCloud(max_words = 2000 , width = 1600 , height = 800).generate(\" \".join(df[df['sentiment'] == 'Negative'].text))\n",
    "plt.imshow(wc , interpolation = 'bilinear')"
   ]
  },
  {
   "cell_type": "code",
   "execution_count": 16,
   "id": "c65a95bb",
   "metadata": {
    "execution": {
     "iopub.execute_input": "2024-06-01T15:44:48.271197Z",
     "iopub.status.busy": "2024-06-01T15:44:48.270916Z",
     "iopub.status.idle": "2024-06-01T15:44:48.274792Z",
     "shell.execute_reply": "2024-06-01T15:44:48.273955Z"
    },
    "papermill": {
     "duration": 0.018218,
     "end_time": "2024-06-01T15:44:48.276606",
     "exception": false,
     "start_time": "2024-06-01T15:44:48.258388",
     "status": "completed"
    },
    "tags": []
   },
   "outputs": [],
   "source": [
    "TRAIN_SIZE = 0.8\n",
    "MAX_NB_WORDS = 100000\n",
    "MAX_SEQUENCE_LENGTH = 30"
   ]
  },
  {
   "cell_type": "code",
   "execution_count": 17,
   "id": "5bd9522c",
   "metadata": {
    "execution": {
     "iopub.execute_input": "2024-06-01T15:44:48.301692Z",
     "iopub.status.busy": "2024-06-01T15:44:48.301428Z",
     "iopub.status.idle": "2024-06-01T15:44:48.575146Z",
     "shell.execute_reply": "2024-06-01T15:44:48.574099Z"
    },
    "papermill": {
     "duration": 0.289375,
     "end_time": "2024-06-01T15:44:48.578307",
     "exception": false,
     "start_time": "2024-06-01T15:44:48.288932",
     "status": "completed"
    },
    "tags": []
   },
   "outputs": [
    {
     "name": "stdout",
     "output_type": "stream",
     "text": [
      "Train Data size: 1280000\n",
      "Test Data size 320000\n"
     ]
    }
   ],
   "source": [
    "train_data, test_data = train_test_split(df, test_size=1-TRAIN_SIZE,\n",
    "                                         random_state=7) # Splits Dataset into Training and Testing set\n",
    "print(\"Train Data size:\", len(train_data))\n",
    "print(\"Test Data size\", len(test_data))"
   ]
  },
  {
   "cell_type": "markdown",
   "id": "739bc6fe",
   "metadata": {
    "papermill": {
     "duration": 0.011679,
     "end_time": "2024-06-01T15:44:48.603037",
     "exception": false,
     "start_time": "2024-06-01T15:44:48.591358",
     "status": "completed"
    },
    "tags": []
   },
   "source": [
    "### Tokenization\n"
   ]
  },
  {
   "cell_type": "code",
   "execution_count": 18,
   "id": "dcc6838b",
   "metadata": {
    "execution": {
     "iopub.execute_input": "2024-06-01T15:44:48.627972Z",
     "iopub.status.busy": "2024-06-01T15:44:48.627667Z",
     "iopub.status.idle": "2024-06-01T15:44:48.655632Z",
     "shell.execute_reply": "2024-06-01T15:44:48.654914Z"
    },
    "papermill": {
     "duration": 0.042668,
     "end_time": "2024-06-01T15:44:48.657579",
     "exception": false,
     "start_time": "2024-06-01T15:44:48.614911",
     "status": "completed"
    },
    "tags": []
   },
   "outputs": [],
   "source": [
    "from tensorflow.keras.preprocessing.text import Tokenizer"
   ]
  },
  {
   "cell_type": "code",
   "execution_count": 19,
   "id": "17ab9ede",
   "metadata": {
    "execution": {
     "iopub.execute_input": "2024-06-01T15:44:48.682367Z",
     "iopub.status.busy": "2024-06-01T15:44:48.682092Z",
     "iopub.status.idle": "2024-06-01T15:45:09.750309Z",
     "shell.execute_reply": "2024-06-01T15:45:09.749199Z"
    },
    "papermill": {
     "duration": 21.082911,
     "end_time": "2024-06-01T15:45:09.752375",
     "exception": false,
     "start_time": "2024-06-01T15:44:48.669464",
     "status": "completed"
    },
    "tags": []
   },
   "outputs": [
    {
     "name": "stdout",
     "output_type": "stream",
     "text": [
      "Vocabulary Size : 290575\n"
     ]
    }
   ],
   "source": [
    "tokenizer = Tokenizer()\n",
    "tokenizer.fit_on_texts(train_data['text'])\n",
    "\n",
    "word_index = tokenizer.word_index\n",
    "vocab_size = len(tokenizer.word_index) + 1\n",
    "print(\"Vocabulary Size :\", vocab_size)"
   ]
  },
  {
   "cell_type": "code",
   "execution_count": 20,
   "id": "4a1c5ca5",
   "metadata": {
    "execution": {
     "iopub.execute_input": "2024-06-01T15:45:09.777943Z",
     "iopub.status.busy": "2024-06-01T15:45:09.777636Z",
     "iopub.status.idle": "2024-06-01T15:45:39.305718Z",
     "shell.execute_reply": "2024-06-01T15:45:39.304837Z"
    },
    "papermill": {
     "duration": 29.543239,
     "end_time": "2024-06-01T15:45:39.307933",
     "exception": false,
     "start_time": "2024-06-01T15:45:09.764694",
     "status": "completed"
    },
    "tags": []
   },
   "outputs": [
    {
     "name": "stdout",
     "output_type": "stream",
     "text": [
      "Training X Shape: (1280000, 30)\n",
      "Testing X Shape: (320000, 30)\n"
     ]
    }
   ],
   "source": [
    "from keras.preprocessing.sequence import pad_sequences\n",
    "\n",
    "x_train = pad_sequences(tokenizer.texts_to_sequences(train_data['text']),\n",
    "                        maxlen = MAX_SEQUENCE_LENGTH)\n",
    "x_test = pad_sequences(tokenizer.texts_to_sequences(test_data['text']),\n",
    "                       maxlen = MAX_SEQUENCE_LENGTH)\n",
    "\n",
    "print(\"Training X Shape:\",x_train.shape)\n",
    "print(\"Testing X Shape:\",x_test.shape)"
   ]
  },
  {
   "cell_type": "code",
   "execution_count": 21,
   "id": "6039a4bf",
   "metadata": {
    "execution": {
     "iopub.execute_input": "2024-06-01T15:45:39.334126Z",
     "iopub.status.busy": "2024-06-01T15:45:39.333784Z",
     "iopub.status.idle": "2024-06-01T15:45:39.433028Z",
     "shell.execute_reply": "2024-06-01T15:45:39.432321Z"
    },
    "papermill": {
     "duration": 0.114478,
     "end_time": "2024-06-01T15:45:39.434917",
     "exception": false,
     "start_time": "2024-06-01T15:45:39.320439",
     "status": "completed"
    },
    "tags": []
   },
   "outputs": [],
   "source": [
    "labels = train_data['sentiment'].unique().tolist()"
   ]
  },
  {
   "cell_type": "code",
   "execution_count": 22,
   "id": "8e7e387c",
   "metadata": {
    "execution": {
     "iopub.execute_input": "2024-06-01T15:45:39.460617Z",
     "iopub.status.busy": "2024-06-01T15:45:39.460076Z",
     "iopub.status.idle": "2024-06-01T15:45:41.388346Z",
     "shell.execute_reply": "2024-06-01T15:45:41.387405Z"
    },
    "papermill": {
     "duration": 1.94322,
     "end_time": "2024-06-01T15:45:41.390433",
     "exception": false,
     "start_time": "2024-06-01T15:45:39.447213",
     "status": "completed"
    },
    "tags": []
   },
   "outputs": [
    {
     "name": "stdout",
     "output_type": "stream",
     "text": [
      "y_train shape: (1280000, 1)\n",
      "y_test shape: (320000, 1)\n"
     ]
    }
   ],
   "source": [
    "## Label Encoding\n",
    "encoder = LabelEncoder()\n",
    "encoder.fit(train_data.sentiment.to_list())\n",
    "\n",
    "y_train = encoder.transform(train_data['sentiment'].to_list())\n",
    "y_test = encoder.transform(test_data['sentiment'].to_list())\n",
    "\n",
    "y_train = y_train.reshape(-1,1)\n",
    "y_test = y_test.reshape(-1,1)\n",
    "\n",
    "print(\"y_train shape:\", y_train.shape)\n",
    "print(\"y_test shape:\", y_test.shape)"
   ]
  },
  {
   "cell_type": "markdown",
   "id": "e21f807a",
   "metadata": {
    "papermill": {
     "duration": 0.011928,
     "end_time": "2024-06-01T15:45:41.415046",
     "exception": false,
     "start_time": "2024-06-01T15:45:41.403118",
     "status": "completed"
    },
    "tags": []
   },
   "source": [
    "## Word Emdedding"
   ]
  },
  {
   "cell_type": "code",
   "execution_count": 23,
   "id": "b06cc2a1",
   "metadata": {
    "execution": {
     "iopub.execute_input": "2024-06-01T15:45:41.440974Z",
     "iopub.status.busy": "2024-06-01T15:45:41.440670Z",
     "iopub.status.idle": "2024-06-01T15:48:43.167405Z",
     "shell.execute_reply": "2024-06-01T15:48:43.166327Z"
    },
    "papermill": {
     "duration": 181.742537,
     "end_time": "2024-06-01T15:48:43.169919",
     "exception": false,
     "start_time": "2024-06-01T15:45:41.427382",
     "status": "completed"
    },
    "tags": []
   },
   "outputs": [
    {
     "name": "stderr",
     "output_type": "stream",
     "text": [
      "/opt/conda/lib/python3.10/pty.py:89: RuntimeWarning: os.fork() was called. os.fork() is incompatible with multithreaded code, and JAX is multithreaded, so this will likely lead to a deadlock.\n",
      "  pid, fd = os.forkpty()\n"
     ]
    },
    {
     "name": "stdout",
     "output_type": "stream",
     "text": [
      "--2024-06-01 15:45:42--  http://nlp.stanford.edu/data/glove.6B.zip\r\n",
      "Resolving nlp.stanford.edu (nlp.stanford.edu)... 171.64.67.140\r\n",
      "Connecting to nlp.stanford.edu (nlp.stanford.edu)|171.64.67.140|:80... connected.\r\n",
      "HTTP request sent, awaiting response... 302 Found\r\n",
      "Location: https://nlp.stanford.edu/data/glove.6B.zip [following]\r\n",
      "--2024-06-01 15:45:42--  https://nlp.stanford.edu/data/glove.6B.zip\r\n",
      "Connecting to nlp.stanford.edu (nlp.stanford.edu)|171.64.67.140|:443... connected.\r\n",
      "HTTP request sent, awaiting response... 301 Moved Permanently\r\n",
      "Location: https://downloads.cs.stanford.edu/nlp/data/glove.6B.zip [following]\r\n",
      "--2024-06-01 15:45:43--  https://downloads.cs.stanford.edu/nlp/data/glove.6B.zip\r\n",
      "Resolving downloads.cs.stanford.edu (downloads.cs.stanford.edu)... 171.64.64.22\r\n",
      "Connecting to downloads.cs.stanford.edu (downloads.cs.stanford.edu)|171.64.64.22|:443... connected.\r\n",
      "HTTP request sent, awaiting response... 200 OK\r\n",
      "Length: 862182613 (822M) [application/zip]\r\n",
      "Saving to: 'glove.6B.zip'\r\n",
      "\r\n",
      "glove.6B.zip        100%[===================>] 822.24M  5.02MB/s    in 2m 39s  \r\n",
      "\r\n",
      "2024-06-01 15:48:22 (5.19 MB/s) - 'glove.6B.zip' saved [862182613/862182613]\r\n",
      "\r\n",
      "Archive:  glove.6B.zip\r\n",
      "  inflating: glove.6B.50d.txt        \r\n",
      "  inflating: glove.6B.100d.txt       \r\n",
      "  inflating: glove.6B.200d.txt       \r\n",
      "  inflating: glove.6B.300d.txt       \r\n"
     ]
    }
   ],
   "source": [
    "!wget http://nlp.stanford.edu/data/glove.6B.zip\n",
    "!unzip glove.6B.zip"
   ]
  },
  {
   "cell_type": "code",
   "execution_count": 24,
   "id": "3bf54236",
   "metadata": {
    "execution": {
     "iopub.execute_input": "2024-06-01T15:48:43.320753Z",
     "iopub.status.busy": "2024-06-01T15:48:43.320362Z",
     "iopub.status.idle": "2024-06-01T15:48:43.325733Z",
     "shell.execute_reply": "2024-06-01T15:48:43.324836Z"
    },
    "papermill": {
     "duration": 0.082924,
     "end_time": "2024-06-01T15:48:43.327610",
     "exception": false,
     "start_time": "2024-06-01T15:48:43.244686",
     "status": "completed"
    },
    "tags": []
   },
   "outputs": [],
   "source": [
    "GLOVE_EMB = 'glove.6B.300d.txt'\n",
    "EMBEDDING_DIM = 300\n",
    "LR = 1e-3\n",
    "BATCH_SIZE = 1024\n",
    "EPOCHS = 10\n",
    "MODEL_PATH = 'best_model.hdf5'\n"
   ]
  },
  {
   "cell_type": "code",
   "execution_count": 25,
   "id": "a323dc50",
   "metadata": {
    "execution": {
     "iopub.execute_input": "2024-06-01T15:48:43.481882Z",
     "iopub.status.busy": "2024-06-01T15:48:43.480990Z",
     "iopub.status.idle": "2024-06-01T15:49:15.617408Z",
     "shell.execute_reply": "2024-06-01T15:49:15.616473Z"
    },
    "papermill": {
     "duration": 32.287347,
     "end_time": "2024-06-01T15:49:15.691428",
     "exception": false,
     "start_time": "2024-06-01T15:48:43.404081",
     "status": "completed"
    },
    "tags": []
   },
   "outputs": [
    {
     "name": "stdout",
     "output_type": "stream",
     "text": [
      "Found 400000 word vectors.\n"
     ]
    }
   ],
   "source": [
    "embeddings_index = {}\n",
    "\n",
    "f = open(GLOVE_EMB)\n",
    "for line in f:\n",
    "  values = line.split()\n",
    "  word = value = values[0]\n",
    "  coefs = np.asarray(values[1:], dtype='float32')\n",
    "  embeddings_index[word] = coefs\n",
    "f.close()\n",
    "\n",
    "print('Found %s word vectors.' %len(embeddings_index))"
   ]
  },
  {
   "cell_type": "code",
   "execution_count": 26,
   "id": "7f374375",
   "metadata": {
    "execution": {
     "iopub.execute_input": "2024-06-01T15:49:15.836412Z",
     "iopub.status.busy": "2024-06-01T15:49:15.836073Z",
     "iopub.status.idle": "2024-06-01T15:49:16.368483Z",
     "shell.execute_reply": "2024-06-01T15:49:16.367700Z"
    },
    "papermill": {
     "duration": 0.607709,
     "end_time": "2024-06-01T15:49:16.370684",
     "exception": false,
     "start_time": "2024-06-01T15:49:15.762975",
     "status": "completed"
    },
    "tags": []
   },
   "outputs": [],
   "source": [
    "embedding_matrix = np.zeros((vocab_size, EMBEDDING_DIM))\n",
    "for word, i in word_index.items():\n",
    "  embedding_vector = embeddings_index.get(word)\n",
    "  if embedding_vector is not None:\n",
    "    embedding_matrix[i] = embedding_vector"
   ]
  },
  {
   "cell_type": "code",
   "execution_count": 27,
   "id": "dfbc0974",
   "metadata": {
    "execution": {
     "iopub.execute_input": "2024-06-01T15:49:16.538493Z",
     "iopub.status.busy": "2024-06-01T15:49:16.538123Z",
     "iopub.status.idle": "2024-06-01T15:49:18.059591Z",
     "shell.execute_reply": "2024-06-01T15:49:18.058856Z"
    },
    "papermill": {
     "duration": 1.600784,
     "end_time": "2024-06-01T15:49:18.061921",
     "exception": false,
     "start_time": "2024-06-01T15:49:16.461137",
     "status": "completed"
    },
    "tags": []
   },
   "outputs": [
    {
     "name": "stderr",
     "output_type": "stream",
     "text": [
      "/opt/conda/lib/python3.10/site-packages/keras/src/layers/core/embedding.py:90: UserWarning: Argument `input_length` is deprecated. Just remove it.\n",
      "  warnings.warn(\n"
     ]
    }
   ],
   "source": [
    "embedding_layer = tf.keras.layers.Embedding(vocab_size,\n",
    "                                          EMBEDDING_DIM,\n",
    "                                          weights=[embedding_matrix],\n",
    "                                          input_length=MAX_SEQUENCE_LENGTH,\n",
    "                                          trainable=False)"
   ]
  },
  {
   "cell_type": "markdown",
   "id": "afbf73c5",
   "metadata": {
    "papermill": {
     "duration": 0.071741,
     "end_time": "2024-06-01T15:49:18.206674",
     "exception": false,
     "start_time": "2024-06-01T15:49:18.134933",
     "status": "completed"
    },
    "tags": []
   },
   "source": [
    "## Model Training - LSTM"
   ]
  },
  {
   "cell_type": "code",
   "execution_count": 28,
   "id": "da5a7963",
   "metadata": {
    "execution": {
     "iopub.execute_input": "2024-06-01T15:49:18.351913Z",
     "iopub.status.busy": "2024-06-01T15:49:18.351554Z",
     "iopub.status.idle": "2024-06-01T15:49:18.359872Z",
     "shell.execute_reply": "2024-06-01T15:49:18.359010Z"
    },
    "papermill": {
     "duration": 0.083358,
     "end_time": "2024-06-01T15:49:18.361713",
     "exception": false,
     "start_time": "2024-06-01T15:49:18.278355",
     "status": "completed"
    },
    "tags": []
   },
   "outputs": [],
   "source": [
    "from tensorflow.keras.layers import Conv1D, Bidirectional, LSTM, Dense, Input, Dropout\n",
    "from tensorflow.keras.layers import SpatialDropout1D\n",
    "from tensorflow.keras.callbacks import ModelCheckpoint"
   ]
  },
  {
   "cell_type": "code",
   "execution_count": 29,
   "id": "39f70f59",
   "metadata": {
    "execution": {
     "iopub.execute_input": "2024-06-01T15:49:18.507146Z",
     "iopub.status.busy": "2024-06-01T15:49:18.506798Z",
     "iopub.status.idle": "2024-06-01T15:49:19.011917Z",
     "shell.execute_reply": "2024-06-01T15:49:19.011171Z"
    },
    "papermill": {
     "duration": 0.580187,
     "end_time": "2024-06-01T15:49:19.014087",
     "exception": false,
     "start_time": "2024-06-01T15:49:18.433900",
     "status": "completed"
    },
    "tags": []
   },
   "outputs": [],
   "source": [
    "sequence_input = Input(shape=(MAX_SEQUENCE_LENGTH,), dtype='int32')\n",
    "embedding_sequences = embedding_layer(sequence_input)\n",
    "x = SpatialDropout1D(0.2)(embedding_sequences)\n",
    "x = Conv1D(64, 5, activation='relu')(x)\n",
    "x = Bidirectional(LSTM(64, dropout=0.2, recurrent_dropout=0.2))(x)\n",
    "x = Dense(512, activation='relu')(x)\n",
    "x = Dropout(0.5)(x)\n",
    "x = Dense(512, activation='relu')(x)\n",
    "outputs = Dense(1, activation='sigmoid')(x)\n",
    "model = tf.keras.Model(sequence_input, outputs)"
   ]
  },
  {
   "cell_type": "code",
   "execution_count": 30,
   "id": "8f9639b4",
   "metadata": {
    "execution": {
     "iopub.execute_input": "2024-06-01T15:49:19.159720Z",
     "iopub.status.busy": "2024-06-01T15:49:19.159409Z",
     "iopub.status.idle": "2024-06-01T15:49:19.174627Z",
     "shell.execute_reply": "2024-06-01T15:49:19.173944Z"
    },
    "papermill": {
     "duration": 0.090155,
     "end_time": "2024-06-01T15:49:19.176478",
     "exception": false,
     "start_time": "2024-06-01T15:49:19.086323",
     "status": "completed"
    },
    "tags": []
   },
   "outputs": [],
   "source": [
    "from tensorflow.keras.optimizers import Adam\n",
    "from tensorflow.keras.callbacks import ReduceLROnPlateau\n",
    "\n",
    "model.compile(optimizer=Adam(learning_rate=LR), loss='binary_crossentropy',\n",
    "              metrics=['accuracy'])\n",
    "ReduceLROnPlateau = ReduceLROnPlateau(factor=0.1,\n",
    "                                     min_lr = 0.01,\n",
    "                                     monitor = 'val_loss',\n",
    "                                     verbose = 1)"
   ]
  },
  {
   "cell_type": "code",
   "execution_count": 31,
   "id": "f0ef0f28",
   "metadata": {
    "execution": {
     "iopub.execute_input": "2024-06-01T15:49:19.323263Z",
     "iopub.status.busy": "2024-06-01T15:49:19.322912Z",
     "iopub.status.idle": "2024-06-01T15:49:19.329307Z",
     "shell.execute_reply": "2024-06-01T15:49:19.328418Z"
    },
    "papermill": {
     "duration": 0.081705,
     "end_time": "2024-06-01T15:49:19.331285",
     "exception": false,
     "start_time": "2024-06-01T15:49:19.249580",
     "status": "completed"
    },
    "tags": []
   },
   "outputs": [
    {
     "name": "stdout",
     "output_type": "stream",
     "text": [
      "Training on GPU...\n"
     ]
    }
   ],
   "source": [
    "print(\"Training on GPU...\") if tf.test.is_gpu_available() else print(\"Training on CPU...\")"
   ]
  },
  {
   "cell_type": "code",
   "execution_count": 32,
   "id": "2532b564",
   "metadata": {
    "execution": {
     "iopub.execute_input": "2024-06-01T15:49:19.477560Z",
     "iopub.status.busy": "2024-06-01T15:49:19.476812Z",
     "iopub.status.idle": "2024-06-01T15:59:10.390167Z",
     "shell.execute_reply": "2024-06-01T15:59:10.389284Z"
    },
    "papermill": {
     "duration": 590.989235,
     "end_time": "2024-06-01T15:59:10.392367",
     "exception": false,
     "start_time": "2024-06-01T15:49:19.403132",
     "status": "completed"
    },
    "tags": []
   },
   "outputs": [
    {
     "name": "stdout",
     "output_type": "stream",
     "text": [
      "Epoch 1/10\n",
      "\u001b[1m1250/1250\u001b[0m \u001b[32m━━━━━━━━━━━━━━━━━━━━\u001b[0m\u001b[37m\u001b[0m \u001b[1m66s\u001b[0m 46ms/step - accuracy: 0.7135 - loss: 0.5505 - val_accuracy: 0.7640 - val_loss: 0.4856 - learning_rate: 0.0010\n",
      "Epoch 2/10\n",
      "\u001b[1m1250/1250\u001b[0m \u001b[32m━━━━━━━━━━━━━━━━━━━━\u001b[0m\u001b[37m\u001b[0m \u001b[1m58s\u001b[0m 46ms/step - accuracy: 0.7578 - loss: 0.4951 - val_accuracy: 0.7713 - val_loss: 0.4743 - learning_rate: 0.0010\n",
      "Epoch 3/10\n",
      "\u001b[1m1250/1250\u001b[0m \u001b[32m━━━━━━━━━━━━━━━━━━━━\u001b[0m\u001b[37m\u001b[0m \u001b[1m57s\u001b[0m 46ms/step - accuracy: 0.7653 - loss: 0.4831 - val_accuracy: 0.7754 - val_loss: 0.4683 - learning_rate: 0.0010\n",
      "Epoch 4/10\n",
      "\u001b[1m1250/1250\u001b[0m \u001b[32m━━━━━━━━━━━━━━━━━━━━\u001b[0m\u001b[37m\u001b[0m \u001b[1m57s\u001b[0m 45ms/step - accuracy: 0.7694 - loss: 0.4770 - val_accuracy: 0.7771 - val_loss: 0.4649 - learning_rate: 0.0010\n",
      "Epoch 5/10\n",
      "\u001b[1m1250/1250\u001b[0m \u001b[32m━━━━━━━━━━━━━━━━━━━━\u001b[0m\u001b[37m\u001b[0m \u001b[1m58s\u001b[0m 46ms/step - accuracy: 0.7727 - loss: 0.4717 - val_accuracy: 0.7790 - val_loss: 0.4623 - learning_rate: 0.0010\n",
      "Epoch 6/10\n",
      "\u001b[1m1250/1250\u001b[0m \u001b[32m━━━━━━━━━━━━━━━━━━━━\u001b[0m\u001b[37m\u001b[0m \u001b[1m59s\u001b[0m 47ms/step - accuracy: 0.7742 - loss: 0.4690 - val_accuracy: 0.7796 - val_loss: 0.4609 - learning_rate: 0.0010\n",
      "Epoch 7/10\n",
      "\u001b[1m1250/1250\u001b[0m \u001b[32m━━━━━━━━━━━━━━━━━━━━\u001b[0m\u001b[37m\u001b[0m \u001b[1m60s\u001b[0m 48ms/step - accuracy: 0.7766 - loss: 0.4658 - val_accuracy: 0.7807 - val_loss: 0.4589 - learning_rate: 0.0010\n",
      "Epoch 8/10\n",
      "\u001b[1m1250/1250\u001b[0m \u001b[32m━━━━━━━━━━━━━━━━━━━━\u001b[0m\u001b[37m\u001b[0m \u001b[1m59s\u001b[0m 47ms/step - accuracy: 0.7772 - loss: 0.4638 - val_accuracy: 0.7805 - val_loss: 0.4590 - learning_rate: 0.0010\n",
      "Epoch 9/10\n",
      "\u001b[1m1250/1250\u001b[0m \u001b[32m━━━━━━━━━━━━━━━━━━━━\u001b[0m\u001b[37m\u001b[0m \u001b[1m58s\u001b[0m 46ms/step - accuracy: 0.7784 - loss: 0.4621 - val_accuracy: 0.7797 - val_loss: 0.4595 - learning_rate: 0.0010\n",
      "Epoch 10/10\n",
      "\u001b[1m1250/1250\u001b[0m \u001b[32m━━━━━━━━━━━━━━━━━━━━\u001b[0m\u001b[37m\u001b[0m \u001b[1m59s\u001b[0m 47ms/step - accuracy: 0.7804 - loss: 0.4594 - val_accuracy: 0.7810 - val_loss: 0.4572 - learning_rate: 0.0010\n"
     ]
    }
   ],
   "source": [
    "history = model.fit(x_train, y_train, batch_size=BATCH_SIZE, epochs=EPOCHS,\n",
    "                    validation_data=(x_test, y_test), callbacks=[ReduceLROnPlateau])"
   ]
  },
  {
   "cell_type": "code",
   "execution_count": 33,
   "id": "11285fe0",
   "metadata": {
    "execution": {
     "iopub.execute_input": "2024-06-01T15:59:11.640000Z",
     "iopub.status.busy": "2024-06-01T15:59:11.639011Z",
     "iopub.status.idle": "2024-06-01T15:59:12.161441Z",
     "shell.execute_reply": "2024-06-01T15:59:12.160500Z"
    },
    "papermill": {
     "duration": 1.13899,
     "end_time": "2024-06-01T15:59:12.163700",
     "exception": false,
     "start_time": "2024-06-01T15:59:11.024710",
     "status": "completed"
    },
    "tags": []
   },
   "outputs": [
    {
     "data": {
      "text/plain": [
       "<matplotlib.legend.Legend at 0x7ec34419c250>"
      ]
     },
     "execution_count": 33,
     "metadata": {},
     "output_type": "execute_result"
    },
    {
     "data": {
      "image/png": "[encoded data removed]",
      "text/plain": [
       "<Figure size 640x480 with 2 Axes>"
      ]
     },
     "metadata": {},
     "output_type": "display_data"
    }
   ],
   "source": [
    "s, (at, al) = plt.subplots(2,1)\n",
    "at.plot(history.history['accuracy'], c= 'b')\n",
    "at.plot(history.history['val_accuracy'], c='r')\n",
    "at.set_title('model accuracy')\n",
    "at.set_ylabel('accuracy')\n",
    "at.set_xlabel('epoch')\n",
    "at.legend(['LSTM_train', 'LSTM_val'], loc='upper left')\n",
    "\n",
    "al.plot(history.history['loss'], c='m')\n",
    "al.plot(history.history['val_loss'], c='c')\n",
    "al.set_title('model loss')\n",
    "al.set_ylabel('loss')\n",
    "al.set_xlabel('epoch')\n",
    "al.legend(['train', 'val'], loc = 'upper left')"
   ]
  },
  {
   "cell_type": "code",
   "execution_count": 34,
   "id": "2c3c9e5e",
   "metadata": {
    "execution": {
     "iopub.execute_input": "2024-06-01T15:59:13.417401Z",
     "iopub.status.busy": "2024-06-01T15:59:13.417002Z",
     "iopub.status.idle": "2024-06-01T15:59:16.438530Z",
     "shell.execute_reply": "2024-06-01T15:59:16.437141Z"
    },
    "papermill": {
     "duration": 3.627507,
     "end_time": "2024-06-01T15:59:16.442705",
     "exception": false,
     "start_time": "2024-06-01T15:59:12.815198",
     "status": "completed"
    },
    "tags": []
   },
   "outputs": [
    {
     "name": "stdout",
     "output_type": "stream",
     "text": [
      "\u001b[1m32/32\u001b[0m \u001b[32m━━━━━━━━━━━━━━━━━━━━\u001b[0m\u001b[37m\u001b[0m \u001b[1m2s\u001b[0m 42ms/step\n"
     ]
    }
   ],
   "source": [
    "def decode_sentiment(score):\n",
    "    return \"Positive\" if score>0.5 else \"Negative\"\n",
    "\n",
    "\n",
    "scores = model.predict(x_test, verbose=1, batch_size=10000)\n",
    "y_pred_1d = [decode_sentiment(score) for score in scores]"
   ]
  },
  {
   "cell_type": "code",
   "execution_count": 35,
   "id": "9ecf9e71",
   "metadata": {
    "execution": {
     "iopub.execute_input": "2024-06-01T15:59:17.718252Z",
     "iopub.status.busy": "2024-06-01T15:59:17.717857Z",
     "iopub.status.idle": "2024-06-01T15:59:19.347295Z",
     "shell.execute_reply": "2024-06-01T15:59:19.346336Z"
    },
    "papermill": {
     "duration": 2.282829,
     "end_time": "2024-06-01T15:59:19.350249",
     "exception": false,
     "start_time": "2024-06-01T15:59:17.067420",
     "status": "completed"
    },
    "tags": []
   },
   "outputs": [
    {
     "data": {
      "image/png": "[encoded data removed]",
      "text/plain": [
       "<Figure size 600x600 with 2 Axes>"
      ]
     },
     "metadata": {},
     "output_type": "display_data"
    }
   ],
   "source": [
    "import itertools\n",
    "from sklearn.metrics import confusion_matrix, classification_report, accuracy_score\n",
    "def plot_confusion_matrix(cm, classes,\n",
    "                          title='Confusion matrix',\n",
    "                          cmap=plt.cm.Blues):\n",
    "    \"\"\"\n",
    "    This function prints and plots the confusion matrix.\n",
    "    Normalization can be applied by setting `normalize=True`.\n",
    "    \"\"\"\n",
    "\n",
    "    cm = cm.astype('float') / cm.sum(axis=1)[:, np.newaxis]\n",
    "\n",
    "    plt.imshow(cm, interpolation='nearest', cmap=cmap)\n",
    "    plt.title(title, fontsize=20)\n",
    "    plt.colorbar()\n",
    "    tick_marks = np.arange(len(classes))\n",
    "    plt.xticks(tick_marks, classes, fontsize=13)\n",
    "    plt.yticks(tick_marks, classes, fontsize=13)\n",
    "\n",
    "    fmt = '.2f'\n",
    "    thresh = cm.max() / 2.\n",
    "    for i, j in itertools.product(range(cm.shape[0]), range(cm.shape[1])):\n",
    "        plt.text(j, i, format(cm[i, j], fmt),\n",
    "                 horizontalalignment=\"center\",\n",
    "                 color=\"white\" if cm[i, j] > thresh else \"black\")\n",
    "\n",
    "    plt.ylabel('True label', fontsize=17)\n",
    "    plt.xlabel('Predicted label', fontsize=17)\n",
    "cnf_matrix = confusion_matrix(test_data.sentiment.to_list(), y_pred_1d)\n",
    "plt.figure(figsize=(6,6))\n",
    "plot_confusion_matrix(cnf_matrix, classes=test_data.sentiment.unique(), title=\"Confusion matrix\")\n",
    "plt.show()"
   ]
  },
  {
   "cell_type": "code",
   "execution_count": 36,
   "id": "5b579898",
   "metadata": {
    "execution": {
     "iopub.execute_input": "2024-06-01T15:59:20.564590Z",
     "iopub.status.busy": "2024-06-01T15:59:20.563912Z",
     "iopub.status.idle": "2024-06-01T15:59:26.108954Z",
     "shell.execute_reply": "2024-06-01T15:59:26.107829Z"
    },
    "papermill": {
     "duration": 6.153235,
     "end_time": "2024-06-01T15:59:26.111119",
     "exception": false,
     "start_time": "2024-06-01T15:59:19.957884",
     "status": "completed"
    },
    "tags": []
   },
   "outputs": [
    {
     "name": "stdout",
     "output_type": "stream",
     "text": [
      "              precision    recall  f1-score   support\n",
      "\n",
      "    Negative       0.80      0.74      0.77    160542\n",
      "    Positive       0.76      0.82      0.79    159458\n",
      "\n",
      "    accuracy                           0.78    320000\n",
      "   macro avg       0.78      0.78      0.78    320000\n",
      "weighted avg       0.78      0.78      0.78    320000\n",
      "\n"
     ]
    }
   ],
   "source": [
    "print(classification_report(list(test_data.sentiment), y_pred_1d))\n"
   ]
  }
 ],
 "metadata": {
  "kaggle": {
   "accelerator": "gpu",
   "dataSources": [
    {
     "datasetId": 2477,
     "sourceId": 4140,
     "sourceType": "datasetVersion"
    }
   ],
   "dockerImageVersionId": 30716,
   "isGpuEnabled": true,
   "isInternetEnabled": true,
   "language": "python",
   "sourceType": "notebook"
  },
  "kernelspec": {
   "display_name": "Python 3 (ipykernel)",
   "language": "python",
   "name": "python3"
  },
  "language_info": {
   "codemirror_mode": {
    "name": "ipython",
    "version": 3
   },
   "file_extension": ".py",
   "mimetype": "text/x-python",
   "name": "python",
   "nbconvert_exporter": "python",
   "pygments_lexer": "ipython3",
   "version": "3.9.13"
  },
  "papermill": {
   "default_parameters": {},
   "duration": 962.684225,
   "end_time": "2024-06-01T15:59:30.066914",
   "environment_variables": {},
   "exception": null,
   "input_path": "__notebook__.ipynb",
   "output_path": "__notebook__.ipynb",
   "parameters": {},
   "start_time": "2024-06-01T15:43:27.382689",
   "version": "2.5.0"
  }
 },
 "nbformat": 4,
 "nbformat_minor": 5
}
